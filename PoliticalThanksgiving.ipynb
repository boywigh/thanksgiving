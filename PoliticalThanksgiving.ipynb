{
 "cells": [
  {
   "cell_type": "markdown",
   "metadata": {},
   "source": [
    "# Wine Consumption on Thankgiving by political Identification\n",
    "### <div style=\"text-align: justify\"> I am specifically interested in the impact of political identification (Republican vs. Democrat) on the amount of wine consumed during Thanksgiving dinner (measured in glasses). I hypothesized that Democrats would drink their sorrows away during Thanksgiving (the perfect time to drink without judgment!) to a greater extent than Republicans. Note that we have a categorical predictor predicting a continuous criterion.</div>"
   ]
  },
  {
   "cell_type": "code",
   "execution_count": 10,
   "metadata": {},
   "outputs": [],
   "source": [
    "library(stargazer)\n",
    "#loading packages"
   ]
  },
  {
   "cell_type": "code",
   "execution_count": 2,
   "metadata": {},
   "outputs": [
    {
     "name": "stdout",
     "output_type": "stream",
     "text": [
      "'data.frame':\t20 obs. of  3 variables:\n",
      " $ subjectID: Factor w/ 10 levels \"1\",\"2\",\"3\",\"4\",..: 1 2 3 4 5 6 7 8 9 10 ...\n",
      " $ PolID    : Factor w/ 2 levels \"Democrats\",\"Republicans\": 2 2 2 2 2 2 2 2 2 2 ...\n",
      " $ WineO    : num  4.31 3.23 5.62 7.02 5.14 ...\n"
     ]
    }
   ],
   "source": [
    "#set the seed. This ensures that rnorm will sample the same datapoints for you as it did for me.\n",
    "set.seed(57)\n",
    "\n",
    "NRepublicans = 10 \n",
    "NDemocrats = 10\n",
    "\n",
    "#ID number\n",
    "ID<-factor(c(seq(1:NRepublicans),seq(1:NDemocrats)))\n",
    "\n",
    "\n",
    "#Vector of labels\n",
    "Group<-c(rep(\"Republicans\",NRepublicans),rep(\"Democrats\",NDemocrats))\n",
    "\n",
    "#vector of datapoints for wine consumed\n",
    "Wine<-c(rnorm(NRepublicans,mean=5,sd=1),rnorm(NDemocrats,mean=10,sd=1.5))\n",
    "\n",
    "### Let's put it all together\n",
    "dataset.gobble1<-data.frame(\n",
    "  subjectID = ID,\n",
    "  PolID = Group,\n",
    "  WineO = Wine)\n",
    "\n",
    "str(dataset.gobble1)"
   ]
  },
  {
   "cell_type": "code",
   "execution_count": 3,
   "metadata": {},
   "outputs": [
    {
     "data": {
      "text/html": [
       "<ol class=list-inline>\n",
       "\t<li>'Democrats'</li>\n",
       "\t<li>'Republicans'</li>\n",
       "</ol>\n"
      ],
      "text/latex": [
       "\\begin{enumerate*}\n",
       "\\item 'Democrats'\n",
       "\\item 'Republicans'\n",
       "\\end{enumerate*}\n"
      ],
      "text/markdown": [
       "1. 'Democrats'\n",
       "2. 'Republicans'\n",
       "\n",
       "\n"
      ],
      "text/plain": [
       "[1] \"Democrats\"   \"Republicans\""
      ]
     },
     "metadata": {},
     "output_type": "display_data"
    }
   ],
   "source": [
    "levels(dataset.gobble1$PolID)"
   ]
  },
  {
   "cell_type": "code",
   "execution_count": 4,
   "metadata": {},
   "outputs": [
    {
     "name": "stdout",
     "output_type": "stream",
     "text": [
      "   subjectID       PolID     WineO\n",
      "1          1 Republicans  4.306234\n",
      "2          2 Republicans  3.233171\n",
      "3          3 Republicans  5.622536\n",
      "4          4 Republicans  7.016676\n",
      "5          5 Republicans  5.140933\n",
      "6          6 Republicans  6.625664\n",
      "7          7 Republicans  6.390078\n",
      "8          8 Republicans  4.122013\n",
      "9          9 Republicans  3.971433\n",
      "10        10 Republicans  5.951447\n",
      "11         1   Democrats 12.681963\n",
      "12         2   Democrats 13.570811\n",
      "13         3   Democrats  8.571809\n",
      "14         4   Democrats  9.715497\n",
      "15         5   Democrats  7.543088\n",
      "16         6   Democrats  8.794743\n",
      "17         7   Democrats  6.065492\n",
      "18         8   Democrats  7.182969\n",
      "19         9   Democrats 10.466077\n",
      "20        10   Democrats 12.641400\n"
     ]
    }
   ],
   "source": [
    "print(dataset.gobble1)"
   ]
  },
  {
   "cell_type": "markdown",
   "metadata": {},
   "source": [
    "## Null Hypothesis (H<sub>0</sub>) : Republicans will drink away their sorrow more compared to Democrats"
   ]
  },
  {
   "cell_type": "code",
   "execution_count": 6,
   "metadata": {},
   "outputs": [],
   "source": [
    "?lm"
   ]
  },
  {
   "cell_type": "markdown",
   "metadata": {},
   "source": [
    "It generally takes the layout of “Name your model”<-lm(Criterion~Predictor, data=“name of your dataset”). Note that in your output, the “estimate” value denotes the unstandardized beta for each predictor. Also note that I didn’t dummy code the categorical predictor. R is very smart and can handle this (it already has a contrast table built in for every factor variable). You can look at the current contrast table for our factor variable (political ID) by using the contrasts() command."
   ]
  },
  {
   "cell_type": "code",
   "execution_count": 5,
   "metadata": {},
   "outputs": [
    {
     "data": {
      "text/html": [
       "<table>\n",
       "<thead><tr><th></th><th scope=col>Republicans</th></tr></thead>\n",
       "<tbody>\n",
       "\t<tr><th scope=row>Democrats</th><td>0</td></tr>\n",
       "\t<tr><th scope=row>Republicans</th><td>1</td></tr>\n",
       "</tbody>\n",
       "</table>\n"
      ],
      "text/latex": [
       "\\begin{tabular}{r|l}\n",
       "  & Republicans\\\\\n",
       "\\hline\n",
       "\tDemocrats & 0\\\\\n",
       "\tRepublicans & 1\\\\\n",
       "\\end{tabular}\n"
      ],
      "text/markdown": [
       "\n",
       "| <!--/--> | Republicans | \n",
       "|---|---|\n",
       "| Democrats | 0 | \n",
       "| Republicans | 1 | \n",
       "\n",
       "\n"
      ],
      "text/plain": [
       "            Republicans\n",
       "Democrats   0          \n",
       "Republicans 1          "
      ]
     },
     "metadata": {},
     "output_type": "display_data"
    }
   ],
   "source": [
    "contrasts(dataset.gobble1$PolID)"
   ]
  },
  {
   "cell_type": "code",
   "execution_count": 6,
   "metadata": {},
   "outputs": [
    {
     "data": {
      "text/plain": [
       "\n",
       "Call:\n",
       "lm(formula = WineO ~ PolID, data = dataset.gobble1)\n",
       "\n",
       "Residuals:\n",
       "    Min      1Q  Median      3Q     Max \n",
       "-3.6579 -1.1803 -0.0525  1.2110  3.8474 \n",
       "\n",
       "Coefficients:\n",
       "                 Estimate Std. Error t value Pr(>|t|)    \n",
       "(Intercept)        9.7234     0.6421  15.143  1.1e-11 ***\n",
       "PolIDRepublicans  -4.4854     0.9081  -4.939 0.000106 ***\n",
       "---\n",
       "Signif. codes:  0 ‘***’ 0.001 ‘**’ 0.01 ‘*’ 0.05 ‘.’ 0.1 ‘ ’ 1\n",
       "\n",
       "Residual standard error: 2.031 on 18 degrees of freedom\n",
       "Multiple R-squared:  0.5754,\tAdjusted R-squared:  0.5518 \n",
       "F-statistic:  24.4 on 1 and 18 DF,  p-value: 0.0001059\n"
      ]
     },
     "metadata": {},
     "output_type": "display_data"
    }
   ],
   "source": [
    "#use lm() function here to run your regression model\n",
    "Gobble.model.1<-lm(WineO~PolID, data=dataset.gobble1)\n",
    "summary(Gobble.model.1)"
   ]
  },
  {
   "cell_type": "code",
   "execution_count": 11,
   "metadata": {},
   "outputs": [
    {
     "name": "stdout",
     "output_type": "stream",
     "text": [
      "\n",
      "===============================================\n",
      "                        Dependent variable:    \n",
      "                    ---------------------------\n",
      "                               WineO           \n",
      "-----------------------------------------------\n",
      "PolIDRepublicans             -4.485***         \n",
      "                              (0.908)          \n",
      "                                               \n",
      "Constant                     9.723***          \n",
      "                              (0.642)          \n",
      "                                               \n",
      "-----------------------------------------------\n",
      "Observations                    20             \n",
      "R2                             0.575           \n",
      "Adjusted R2                    0.552           \n",
      "Residual Std. Error       2.031 (df = 18)      \n",
      "F Statistic           24.396*** (df = 1; 18)   \n",
      "===============================================\n",
      "Note:               *p<0.1; **p<0.05; ***p<0.01\n"
     ]
    }
   ],
   "source": [
    "#Stargazer package gave us a pretty summary table, right?!\n",
    "#Note that it outputs a measure of effect size for the model (i.e., adjusted R-squared)\n",
    "stargazer(Gobble.model.1,type=\"text\")"
   ]
  },
  {
   "cell_type": "markdown",
   "metadata": {},
   "source": [
    "## What did we find? Political ID (specifically being Republican) predicted less drink consumption on Thanksgiving. AKA: Republicans (relative to Democrats) were less likely to drink away their sorrows, as predicted. Cool!"
   ]
  },
  {
   "cell_type": "code",
   "execution_count": null,
   "metadata": {},
   "outputs": [],
   "source": []
  }
 ],
 "metadata": {
  "kernelspec": {
   "display_name": "R",
   "language": "R",
   "name": "ir"
  },
  "language_info": {
   "codemirror_mode": "r",
   "file_extension": ".r",
   "mimetype": "text/x-r-source",
   "name": "R",
   "pygments_lexer": "r",
   "version": "3.4.4"
  }
 },
 "nbformat": 4,
 "nbformat_minor": 2
}
